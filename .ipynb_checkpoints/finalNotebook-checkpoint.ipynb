{
 "cells": [
  {
   "cell_type": "markdown",
   "id": "8ed09ee8",
   "metadata": {},
   "source": [
    "# This Dataset contains infomation on recreational fishing in the United States recorded by the US government. You can download the dataset here: https://www.fisheries.noaa.gov/recreational-fishing-data/recreational-fishing-data-downloads. To download this information click on the MRIP Survey Data link under the Gerneal Survey Data Downloads category. Then click on CSV. Then click on ps_2020_csv.zip. Once you unzip the downloaded file you can find this data in the catch_20204 csv file. This data makes me wonder... how many bluefishw were captured in 2020? This data also makes me wonder how many fish were released this year. "
   ]
  },
  {
   "cell_type": "code",
   "execution_count": 38,
   "id": "dd287b43",
   "metadata": {},
   "outputs": [
    {
     "name": "stdout",
     "output_type": "stream",
     "text": [
      "['common', 'strat_id']\n",
      "RangeIndex(start=0, stop=54872, step=1)\n",
      "                 common               strat_id   RELEASE kod\n",
      "0         DOGFISH SHARK   202007913weS:8AM-8PM  0.552597  we\n",
      "1                   NaN   202007913weS:8AM-8PM  0.000000  we\n",
      "2              BLUEFISH   202007913weS:8AM-8PM  2.762987  we\n",
      "3                   NaN   202007913weS:8AM-8PM  0.000000  we\n",
      "4                   NaN   202007913weS:8AM-8PM  0.000000  we\n",
      "...                 ...                    ...       ...  ..\n",
      "54867  HARDHEAD CATFISH  2020082817weS:8AM-8PM  1.000000  we\n",
      "54868          RED DRUM  2020082817weS:8AM-8PM  0.000000  we\n",
      "54869  HARDHEAD CATFISH  2020082817weS:8AM-8PM  1.000000  we\n",
      "54870          RED DRUM  2020082817weS:8AM-8PM  1.000000  we\n",
      "54871  HARDHEAD CATFISH  2020082817weS:8AM-8PM  1.000000  we\n",
      "\n",
      "[54872 rows x 4 columns]\n",
      "kod                                         wd   we\n",
      "common             strat_id                        \n",
      "ACADIAN REDFISH    2020072317weS:8AM-8PM   NaN  5.0\n",
      "                   2020072504wdHEAD-BOAT  16.0  NaN\n",
      "                   2020072504weHEAD-BOAT   NaN  0.0\n",
      "                   2020072535weS:8AM-8PM   NaN  4.0\n",
      "                   2020072537weS:8AM-8PM   NaN  2.0\n",
      "...                                        ...  ...\n",
      "YELLOWTAIL SNAPPER 2020081285weS:8AM-8PM   NaN  5.0\n",
      "                   2020071255wdS:8AM-8PM   0.0  NaN\n",
      "                   2020071287wdS:8AM-8PM  30.0  NaN\n",
      "                   2020081283weS:8AM-8PM   NaN  8.0\n",
      "                   2020071285wdS:8AM-8PM   4.0  NaN\n",
      "\n",
      "[6484 rows x 2 columns]\n",
      "        RELEASE\n",
      "0      0.552597\n",
      "1      0.000000\n",
      "2      2.762987\n",
      "3      0.000000\n",
      "4      0.000000\n",
      "...         ...\n",
      "54867  1.000000\n",
      "54868  0.000000\n",
      "54869  1.000000\n",
      "54870  1.000000\n",
      "54871  1.000000\n",
      "\n",
      "[54872 rows x 1 columns]\n"
     ]
    },
    {
     "data": {
      "image/png": "[encoded data removed]",
      "text/plain": [
       "<Figure size 432x288 with 1 Axes>"
      ]
     },
     "metadata": {
      "needs_background": "light"
     },
     "output_type": "display_data"
    }
   ],
   "source": [
    "import csv\n",
    "import pandas as pd\n",
    "import numpy as np\n",
    "import matplotlib.pyplot as plt\n",
    "data = pd.read_csv(r\"C:\\Users\\reese\\Downloads\\ps_2020_csv\\catch_20204.csv\")\n",
    "\n",
    "df = pd.DataFrame(data, columns= ['common','strat_id'])\n",
    "dfNumsCombined = pd.DataFrame(data, columns= ['RELEASE', 'HARVEST'])\n",
    "dfLARGE = pd.DataFrame(data, columns= ['common','strat_id','RELEASE', 'kod'])\n",
    "newList = list(df)\n",
    "dfIndex = df.index\n",
    "print(newList)\n",
    "print(dfIndex)\n",
    "\n",
    "dfNumsCombined.plot(x ='RELEASE', y='HARVEST', kind = 'scatter')\n",
    "\n",
    "print(dfLARGE)\n",
    "\n",
    "\n",
    "pivotT = pd.pivot_table(dfLARGE, values='RELEASE', index=['common', 'strat_id'], columns=['kod'], aggfunc=np.sum)\n",
    "print(pivotT)\n",
    "\n",
    "\n",
    "groupInfo2 = dfLARGE.groupby(level=0).mean()\n",
    "print(groupInfo2)\n",
    "\n",
    "\n",
    "\n",
    "\n",
    "\n"
   ]
  },
  {
   "cell_type": "markdown",
   "id": "6067aefe",
   "metadata": {},
   "source": [
    "## There is a pretty even distribution between Harvested fish and Released fish in 2020. Out of this data which roughly represents 55,000 fish, there is a near 1 to 1 ration for many fish to be released compared to capture. Depending on this fish this value swayed leaning towards harvested or released, but overall much of the data is near the origin. I also discovered that each fish has it's own tag and time range in which it was captured. "
   ]
  }
 ],
 "metadata": {
  "kernelspec": {
   "display_name": "Python 3 (ipykernel)",
   "language": "python",
   "name": "python3"
  },
  "language_info": {
   "codemirror_mode": {
    "name": "ipython",
    "version": 3
   },
   "file_extension": ".py",
   "mimetype": "text/x-python",
   "name": "python",
   "nbconvert_exporter": "python",
   "pygments_lexer": "ipython3",
   "version": "3.9.7"
  }
 },
 "nbformat": 4,
 "nbformat_minor": 5
}
